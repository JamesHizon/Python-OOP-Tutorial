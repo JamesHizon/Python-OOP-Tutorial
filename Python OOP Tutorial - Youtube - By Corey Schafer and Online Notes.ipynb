{
 "cells": [
  {
   "cell_type": "markdown",
   "metadata": {},
   "source": [
    "# Python Object-Oriented Programming"
   ]
  },
  {
   "cell_type": "code",
   "execution_count": null,
   "metadata": {},
   "outputs": [],
   "source": [
    "# NOTE: Will update class code for each part.\n",
    "\n",
    "# LINK (Rart 3): \n",
    "# https://www.youtube.com/watch?v=rq8cL2XMM5M&list=PL-osiE80TeTsqhIuOqKhwlXsIBIdSeYtc&index=3"
   ]
  },
  {
   "cell_type": "markdown",
   "metadata": {},
   "source": [
    "# Part 1: Classes and Instances"
   ]
  },
  {
   "cell_type": "code",
   "execution_count": null,
   "metadata": {},
   "outputs": [],
   "source": [
    "### DEF: Class\n",
    "# - Variables at the class level\n",
    "\n",
    "### DEF: Instance\n",
    "# - Variables at the object level"
   ]
  },
  {
   "cell_type": "code",
   "execution_count": null,
   "metadata": {},
   "outputs": [],
   "source": [
    "# Method:\n",
    "# - Function associated with a class."
   ]
  },
  {
   "cell_type": "code",
   "execution_count": 13,
   "metadata": {},
   "outputs": [],
   "source": [
    "# Create a class:\n",
    "\n",
    "# Employee class:\n",
    "class Employee:\n",
    "    \n",
    "    # Create __init__ method/function:\n",
    "    # self to represent all of our instances \n",
    "    def __init__(self, first, last, pay):\n",
    "        \"\"\"\n",
    "        __init__ function takes self, first, last and pay arguments.\n",
    "        \"\"\"\n",
    "        self.first = first\n",
    "        self.last = last\n",
    "        self.pay = pay\n",
    "        self.email = first + '.' + last + '.company.com'\n",
    "        \n",
    "    # Create full name method:\n",
    "    def fullname(self):\n",
    "        return '{} {}'.format(self.first, self.last)\n",
    "        \n",
    "        \n",
    "# Create our instances: emp_1, emp_2      \n",
    "# Init method run automatically:\n",
    "# emp_1 set as self.\n",
    "\n",
    "emp_1 = Employee('Corey', 'Schafer', 50000)\n",
    "emp_2 = Employee('Test', 'User', 60000)\n",
    "\n",
    "# Two Employee objects\n",
    "#print(emp_1) \n",
    "#print(emp_2)"
   ]
  },
  {
   "cell_type": "code",
   "execution_count": 7,
   "metadata": {},
   "outputs": [],
   "source": [
    "# Instance variables contain data unique to each instance:\n",
    "\n",
    "#emp_1.first = 'Corey'\n",
    "#emp_1.last = 'Schafer'\n",
    "#emp_1.email = 'Corey.Schafer@company.com'\n",
    "#emp_1.pay = 50000"
   ]
  },
  {
   "cell_type": "code",
   "execution_count": null,
   "metadata": {},
   "outputs": [],
   "source": []
  },
  {
   "cell_type": "code",
   "execution_count": 8,
   "metadata": {},
   "outputs": [],
   "source": [
    "# Each instance has attributes unique to them.\n",
    "\n",
    "#emp_2.first = 'Test'\n",
    "#emp_2.last = 'User'\n",
    "#emp_2.email = 'Test.User@company.com'\n",
    "#emp_2.pay = 60000"
   ]
  },
  {
   "cell_type": "code",
   "execution_count": 11,
   "metadata": {
    "scrolled": true
   },
   "outputs": [
    {
     "name": "stdout",
     "output_type": "stream",
     "text": [
      "Corey.Schafer.company.com\n",
      "Test.User.company.com\n"
     ]
    }
   ],
   "source": [
    "# Email created for each employee:\n",
    "print(emp_1.email)\n",
    "print(emp_2.email)"
   ]
  },
  {
   "cell_type": "code",
   "execution_count": null,
   "metadata": {},
   "outputs": [],
   "source": []
  },
  {
   "cell_type": "code",
   "execution_count": 12,
   "metadata": {
    "scrolled": true
   },
   "outputs": [
    {
     "name": "stdout",
     "output_type": "stream",
     "text": [
      "Corey Schafer\n"
     ]
    }
   ],
   "source": [
    "# Full name\n",
    "print('{} {}'.format(emp_1.first, emp_1.last)) \n",
    "# let self represent emp_1, emp_2"
   ]
  },
  {
   "cell_type": "code",
   "execution_count": 15,
   "metadata": {},
   "outputs": [],
   "source": [
    "# print(emp_2.fullname())"
   ]
  },
  {
   "cell_type": "code",
   "execution_count": 16,
   "metadata": {},
   "outputs": [
    {
     "data": {
      "text/plain": [
       "'Corey Schafer'"
      ]
     },
     "execution_count": 16,
     "metadata": {},
     "output_type": "execute_result"
    }
   ],
   "source": [
    "### DO THE SAME THING:\n",
    "\n",
    "# Call method on instance\n",
    "emp_1.fullname()\n",
    "# Call method on class (doesn't know which instance is being used):\n",
    "print(Employee.fullname(emp_1))"
   ]
  },
  {
   "cell_type": "code",
   "execution_count": null,
   "metadata": {},
   "outputs": [],
   "source": []
  },
  {
   "cell_type": "markdown",
   "metadata": {},
   "source": [
    "# Part 2: Class Variables"
   ]
  },
  {
   "cell_type": "code",
   "execution_count": null,
   "metadata": {},
   "outputs": [],
   "source": [
    "# Class variables:\n",
    "# - are shared among each instance of a class\n",
    "# - the same for each instance\n",
    "\n",
    "# Q: What data do we want to be shared among each employee?"
   ]
  },
  {
   "cell_type": "code",
   "execution_count": 63,
   "metadata": {},
   "outputs": [],
   "source": [
    "class Employee:\n",
    "    \n",
    "    num_of_emps = 0\n",
    "    \n",
    "    # Use class variable for raise_amount\n",
    "    raise_amount = 1.04\n",
    "    \n",
    "    # Create __init__ method/function:\n",
    "    # self to represent all of our instances \n",
    "    def __init__(self, first, last, pay):\n",
    "        \"\"\"\n",
    "        __init__ function takes self, first, last and pay arguments.\n",
    "        \"\"\"\n",
    "        self.first = first\n",
    "        self.last = last\n",
    "        self.pay = pay\n",
    "        self.email = first + '.' + last + '.company.com'\n",
    "        \n",
    "        # __init__ runs every time we create a new employee:\n",
    "        # Thus, we insert .num_of_emps inside __init__ function.\n",
    "        Employee.num_of_emps += 1\n",
    "        \n",
    "    # NOTE: fullname(self), apply_raise calls \n",
    "    # variables from the __init__ function. \n",
    "        \n",
    "    # Create full name method:\n",
    "    \"\"\"\n",
    "    Using {} data structure, self.first and self.last is inputted using\n",
    "    .format() function.\n",
    "    \"\"\"\n",
    "    def fullname(self):\n",
    "        return '{} {}'.format(self.first, self.last)\n",
    "\n",
    "        \n",
    "    def apply_raise(self):\n",
    "        self.pay = int(self.pay * self.raise_amount)\n",
    "        \n",
    "        \n",
    "emp_1 = Employee('Corey', 'Schafer', 50000)\n",
    "emp_2 = Employee('Test', 'User', 60000)"
   ]
  },
  {
   "cell_type": "code",
   "execution_count": 53,
   "metadata": {},
   "outputs": [
    {
     "name": "stdout",
     "output_type": "stream",
     "text": [
      "50000\n"
     ]
    }
   ],
   "source": [
    "print(emp_1.pay)"
   ]
  },
  {
   "cell_type": "code",
   "execution_count": 54,
   "metadata": {},
   "outputs": [],
   "source": [
    "# emp_1 object with \".apply_raise() function applied\"\n",
    "emp_1.apply_raise()"
   ]
  },
  {
   "cell_type": "code",
   "execution_count": 55,
   "metadata": {},
   "outputs": [
    {
     "name": "stdout",
     "output_type": "stream",
     "text": [
      "52000\n"
     ]
    }
   ],
   "source": [
    "print(emp_1.pay)"
   ]
  },
  {
   "cell_type": "code",
   "execution_count": 56,
   "metadata": {},
   "outputs": [
    {
     "name": "stdout",
     "output_type": "stream",
     "text": [
      "1.04\n"
     ]
    }
   ],
   "source": [
    "print(Employee.raise_amount)"
   ]
  },
  {
   "cell_type": "code",
   "execution_count": 40,
   "metadata": {},
   "outputs": [
    {
     "name": "stdout",
     "output_type": "stream",
     "text": [
      "1.04\n"
     ]
    }
   ],
   "source": [
    "print(emp_1.raise_amount)"
   ]
  },
  {
   "cell_type": "code",
   "execution_count": 41,
   "metadata": {},
   "outputs": [
    {
     "name": "stdout",
     "output_type": "stream",
     "text": [
      "1.04\n"
     ]
    }
   ],
   "source": [
    "print(emp_2.raise_amount)"
   ]
  },
  {
   "cell_type": "code",
   "execution_count": 43,
   "metadata": {},
   "outputs": [
    {
     "name": "stdout",
     "output_type": "stream",
     "text": [
      "{'first': 'Corey', 'last': 'Schafer', 'pay': 52000, 'email': 'Corey.Schafer.company.com'}\n"
     ]
    }
   ],
   "source": [
    "print(emp_1.__dict__)"
   ]
  },
  {
   "cell_type": "code",
   "execution_count": 44,
   "metadata": {},
   "outputs": [
    {
     "name": "stdout",
     "output_type": "stream",
     "text": [
      "{'__module__': '__main__', 'raise_amount': 1.04, '__init__': <function Employee.__init__ at 0x7f7b65680378>, 'fullname': <function Employee.fullname at 0x7f7b65692510>, 'apply_raise': <function Employee.apply_raise at 0x7f7b65692f28>, '__dict__': <attribute '__dict__' of 'Employee' objects>, '__weakref__': <attribute '__weakref__' of 'Employee' objects>, '__doc__': None}\n"
     ]
    }
   ],
   "source": [
    "print(Employee.__dict__) # Observe raise amount"
   ]
  },
  {
   "cell_type": "code",
   "execution_count": null,
   "metadata": {},
   "outputs": [],
   "source": []
  },
  {
   "cell_type": "code",
   "execution_count": 45,
   "metadata": {},
   "outputs": [],
   "source": [
    "#Employee.raise_amount = 1.05"
   ]
  },
  {
   "cell_type": "code",
   "execution_count": 61,
   "metadata": {},
   "outputs": [],
   "source": [
    "#print(emp_1.raise_amount)"
   ]
  },
  {
   "cell_type": "code",
   "execution_count": 62,
   "metadata": {},
   "outputs": [],
   "source": [
    "#print(emp_2.raise_amount)"
   ]
  },
  {
   "cell_type": "code",
   "execution_count": 59,
   "metadata": {},
   "outputs": [],
   "source": [
    "emp_1.raise_amount = 1.05"
   ]
  },
  {
   "cell_type": "code",
   "execution_count": 60,
   "metadata": {},
   "outputs": [
    {
     "name": "stdout",
     "output_type": "stream",
     "text": [
      "1.04\n",
      "1.05\n",
      "1.04\n"
     ]
    }
   ],
   "source": [
    "# .raise_amount applied only to emp_1.\n",
    "print(Employee.raise_amount)\n",
    "print(emp_1.raise_amount) # Only works for this instance.\n",
    "print(emp_2.raise_amount)"
   ]
  },
  {
   "cell_type": "code",
   "execution_count": 64,
   "metadata": {},
   "outputs": [
    {
     "name": "stdout",
     "output_type": "stream",
     "text": [
      "2\n"
     ]
    }
   ],
   "source": [
    "print(Employee.num_of_emps)"
   ]
  },
  {
   "cell_type": "markdown",
   "metadata": {},
   "source": [
    "# Part 3: Classmethods and staticmethods"
   ]
  },
  {
   "cell_type": "code",
   "execution_count": null,
   "metadata": {},
   "outputs": [],
   "source": [
    "### DEF: Class method\n",
    "# - A method bound to the class and not the object of the class.\n",
    "# - Has access to the state of the class as it takes a class parameter\n",
    "# that points to the class and not the object instance."
   ]
  },
  {
   "cell_type": "code",
   "execution_count": null,
   "metadata": {},
   "outputs": [],
   "source": [
    "### Static Method vs. Class Method\n",
    "# - A class method can access or modify class state while a\n",
    "# static method can't access or modify it.\n",
    "\n",
    "# Class methods have cls object first.\n",
    "    # Static methods do not pass self or cls.\n",
    "    # Still have logical connection with class."
   ]
  },
  {
   "cell_type": "code",
   "execution_count": 90,
   "metadata": {},
   "outputs": [],
   "source": [
    "class Employee:\n",
    "    \n",
    "    num_of_emps = 0\n",
    "    \n",
    "    # Use class variable for raise_amount\n",
    "    raise_amt = 1.04\n",
    "    \n",
    "    # Create __init__ method/function:\n",
    "    # self to represent all of our instances \n",
    "    def __init__(self, first, last, pay):\n",
    "        \"\"\"\n",
    "        __init__ function takes self, first, last and pay arguments.\n",
    "        \"\"\"\n",
    "        self.first = first\n",
    "        self.last = last\n",
    "        self.pay = pay\n",
    "        self.email = first + '.' + last + '@company.com'\n",
    "        \n",
    "        # __init__ runs every time we create a new employee:\n",
    "        # Thus, we insert .num_of_emps inside __init__ function.\n",
    "        Employee.num_of_emps += 1\n",
    "        \n",
    "    # NOTE: fullname(self), apply_raise calls \n",
    "    # variables from the __init__ function. \n",
    "        \n",
    "    # Create full name method:\n",
    "    \"\"\"\n",
    "    Using {} data structure, self.first and self.last is inputted using\n",
    "    .format() function.\n",
    "    \"\"\"\n",
    "    def fullname(self):\n",
    "        return '{} {}'.format(self.first, self.last)\n",
    "\n",
    "        \n",
    "    def apply_raise(self):\n",
    "        self.pay = int(self.pay * self.raise_amt)\n",
    "        \n",
    "    # Use the word \"cls\" as class variable name.\n",
    "    # - Will work within class vs. instance.\n",
    "    @classmethod\n",
    "    def set_raise_amt(cls, amount):\n",
    "        cls.raise_amt = amount\n",
    "        \n",
    "        \n",
    "    # String split function using emp_str vs. emp_str_1\n",
    "    # Use cls instead of Employee\n",
    "    @classmethod\n",
    "    def from_string(cls, emp_str):\n",
    "        first, last, pay = emp_str.split('-')\n",
    "        return cls(first, last, pay)     \n",
    "    \n",
    "    # say we want a simple function that takes in a date and returns\n",
    "    # our work day. Has a logical connection to employee class, but not\n",
    "    # a necessary connection to a specific instance.\n",
    "    \n",
    "    @staticmethod\n",
    "    def is_workday(day):\n",
    "        if day.weekday() == 5 or day.weekday() == 6:\n",
    "            return False\n",
    "        return True\n",
    "        \n",
    "        \n",
    "emp_1 = Employee('Corey', 'Schafer', 50000)\n",
    "emp_2 = Employee('Test', 'User', 60000)"
   ]
  },
  {
   "cell_type": "code",
   "execution_count": 81,
   "metadata": {},
   "outputs": [],
   "source": [
    "Employee.set_raise_amt(1.05)"
   ]
  },
  {
   "cell_type": "code",
   "execution_count": 82,
   "metadata": {},
   "outputs": [
    {
     "name": "stdout",
     "output_type": "stream",
     "text": [
      "1.05\n",
      "1.05\n",
      "1.05\n"
     ]
    }
   ],
   "source": [
    "# .raise_amount applied only to emp_1.\n",
    "print(Employee.raise_amt)\n",
    "print(emp_1.raise_amt) # Only works for this instance.\n",
    "print(emp_2.raise_amt)"
   ]
  },
  {
   "cell_type": "code",
   "execution_count": 83,
   "metadata": {},
   "outputs": [],
   "source": [
    "# Q: Is there a way to parse a string to create an employee?"
   ]
  },
  {
   "cell_type": "code",
   "execution_count": 84,
   "metadata": {},
   "outputs": [],
   "source": [
    "# Three employees separated by hyphens:\n",
    "emp_str_1 = 'John-Doe-70000'\n",
    "emp_str_2 = 'Steve-Smith-30000'\n",
    "emp_str_3 = 'Jane-Doe-90000'"
   ]
  },
  {
   "cell_type": "code",
   "execution_count": 85,
   "metadata": {},
   "outputs": [],
   "source": [
    "# Split string by hyphen using tuple unpacking:\n",
    "\n",
    "first, last, pay = emp_str_1.split('-')"
   ]
  },
  {
   "cell_type": "code",
   "execution_count": 86,
   "metadata": {},
   "outputs": [],
   "source": [
    "new_emp_1 = Employee(first, last, pay)"
   ]
  },
  {
   "cell_type": "code",
   "execution_count": 87,
   "metadata": {},
   "outputs": [
    {
     "name": "stdout",
     "output_type": "stream",
     "text": [
      "John.Doe@company.com\n",
      "70000\n"
     ]
    }
   ],
   "source": [
    "# OUTPUT:\n",
    "# John.Doe.company.com\n",
    "# 70000\n",
    "print(new_emp_1.email)\n",
    "print(new_emp_1.pay)"
   ]
  },
  {
   "cell_type": "code",
   "execution_count": 88,
   "metadata": {},
   "outputs": [],
   "source": [
    "###"
   ]
  },
  {
   "cell_type": "code",
   "execution_count": 78,
   "metadata": {},
   "outputs": [],
   "source": [
    "new_emp_1 = Employee.from_string(emp_str_1)"
   ]
  },
  {
   "cell_type": "code",
   "execution_count": 89,
   "metadata": {},
   "outputs": [
    {
     "name": "stdout",
     "output_type": "stream",
     "text": [
      "John.Doe@company.com\n",
      "70000\n"
     ]
    }
   ],
   "source": [
    "# OUTPUT:\n",
    "# John.Doe.company.com\n",
    "# 70000\n",
    "print(new_emp_1.email)\n",
    "print(new_emp_1.pay)"
   ]
  },
  {
   "cell_type": "code",
   "execution_count": null,
   "metadata": {},
   "outputs": [],
   "source": []
  },
  {
   "cell_type": "code",
   "execution_count": null,
   "metadata": {},
   "outputs": [],
   "source": [
    "#### SKIP FOR LAST SECTION..."
   ]
  },
  {
   "cell_type": "code",
   "execution_count": 93,
   "metadata": {},
   "outputs": [
    {
     "data": {
      "text/plain": [
       "datetime.date(2016, 7, 11)"
      ]
     },
     "execution_count": 93,
     "metadata": {},
     "output_type": "execute_result"
    }
   ],
   "source": [
    "# Create our datetime object:\n",
    "import datetime\n",
    "my_date = datetime.date(2016, 7, 11)\n",
    "my_date"
   ]
  },
  {
   "cell_type": "code",
   "execution_count": 94,
   "metadata": {},
   "outputs": [
    {
     "name": "stdout",
     "output_type": "stream",
     "text": [
      "True\n"
     ]
    }
   ],
   "source": [
    "print(Employee.is_workday(my_date)) "
   ]
  },
  {
   "cell_type": "code",
   "execution_count": null,
   "metadata": {},
   "outputs": [],
   "source": [
    "# True . It is a workday."
   ]
  },
  {
   "cell_type": "markdown",
   "metadata": {},
   "source": [
    "# Part 4: Inheritance - Creating Subclasses"
   ]
  },
  {
   "cell_type": "code",
   "execution_count": 97,
   "metadata": {},
   "outputs": [],
   "source": [
    "### DEF: Inheritance\n",
    "# - Enables us to define a class that takes all the functionality\n",
    "# from parent class and allows us to add more."
   ]
  },
  {
   "cell_type": "code",
   "execution_count": null,
   "metadata": {},
   "outputs": [],
   "source": []
  },
  {
   "cell_type": "code",
   "execution_count": null,
   "metadata": {},
   "outputs": [],
   "source": []
  },
  {
   "cell_type": "code",
   "execution_count": null,
   "metadata": {},
   "outputs": [],
   "source": []
  },
  {
   "cell_type": "markdown",
   "metadata": {},
   "source": [
    "# Part 5: Special (Magic/Dunder) Methods"
   ]
  },
  {
   "cell_type": "code",
   "execution_count": null,
   "metadata": {},
   "outputs": [],
   "source": [
    "# DEF: Magic/Dunder Method\n",
    "# - Methods having two prefix and suffix underscores in the method\n",
    "# name.\n",
    "# Dunder - means \"double under (underscore)\""
   ]
  },
  {
   "cell_type": "code",
   "execution_count": null,
   "metadata": {},
   "outputs": [],
   "source": [
    "# EXAMPLE:\n",
    "\n",
    "# __init__, __add__, __len__, __repr__ etc."
   ]
  },
  {
   "cell_type": "code",
   "execution_count": null,
   "metadata": {},
   "outputs": [],
   "source": [
    "# __init__ method:\n",
    "# - Used for initialization invoked w/o any call\n",
    "# when an instance of a class is created.\n",
    "\n",
    "# declare our own string class \n",
    "class String: \n",
    "      \n",
    "    # magic method to initiate object \n",
    "    def __init__(self, string): \n",
    "        self.string = string \n",
    "          \n",
    "# Driver Code \n",
    "if __name__ == '__main__': \n",
    "      \n",
    "    # object creation \n",
    "    string1 = String('Hello') \n",
    "  \n",
    "    # print object location \n",
    "    print(string1) "
   ]
  },
  {
   "cell_type": "code",
   "execution_count": null,
   "metadata": {},
   "outputs": [],
   "source": []
  },
  {
   "cell_type": "code",
   "execution_count": null,
   "metadata": {},
   "outputs": [],
   "source": []
  },
  {
   "cell_type": "code",
   "execution_count": 98,
   "metadata": {},
   "outputs": [],
   "source": [
    "# Part 6: Property Decorators - Getters, Setters, and Deleters"
   ]
  },
  {
   "cell_type": "code",
   "execution_count": null,
   "metadata": {},
   "outputs": [],
   "source": [
    "# DEF: Property Decorator\n",
    "# - Used to change your class methods/attributes in such a way so that\n",
    "# the user of your class has no need to make any change in their code."
   ]
  },
  {
   "cell_type": "code",
   "execution_count": null,
   "metadata": {},
   "outputs": [],
   "source": [
    "# LINK FOR HELP:\n",
    "# https://www.journaldev.com/14893/python-property-decorator"
   ]
  },
  {
   "cell_type": "code",
   "execution_count": 99,
   "metadata": {},
   "outputs": [
    {
     "name": "stdout",
     "output_type": "stream",
     "text": [
      "Jaki\n",
      "25\n",
      "Jaki obtained 25 marks\n"
     ]
    }
   ],
   "source": [
    "# Consider class segment:\n",
    "\n",
    "class Student:\n",
    "    def __init__(self, name, marks):\n",
    "        self.name = name\n",
    "        self.marks = marks\n",
    "        self.gotmarks = self.name + ' obtained ' + self.marks + ' marks'\n",
    "\n",
    "\n",
    "st = Student(\"Jaki\", \"25\")\n",
    "\n",
    "print(st.name)\n",
    "print(st.marks)\n",
    "print(st.gotmarks)"
   ]
  },
  {
   "cell_type": "code",
   "execution_count": null,
   "metadata": {},
   "outputs": [],
   "source": [
    "# Now, we want to change the name attribute of student class."
   ]
  },
  {
   "cell_type": "code",
   "execution_count": 100,
   "metadata": {},
   "outputs": [
    {
     "name": "stdout",
     "output_type": "stream",
     "text": [
      "Anusha\n",
      "Jaki obtained 25 marks\n"
     ]
    }
   ],
   "source": [
    "st.name = \"Anusha\"\n",
    "print(st.name)\n",
    "print(st.gotmarks)"
   ]
  },
  {
   "cell_type": "code",
   "execution_count": null,
   "metadata": {},
   "outputs": [],
   "source": [
    "# NOTE: Only received Jaki's marks. We want to update in regards to\n",
    "# Anusha's regards."
   ]
  },
  {
   "cell_type": "code",
   "execution_count": null,
   "metadata": {},
   "outputs": [],
   "source": [
    "# Let's solve the problem:"
   ]
  },
  {
   "cell_type": "code",
   "execution_count": 101,
   "metadata": {},
   "outputs": [
    {
     "name": "stdout",
     "output_type": "stream",
     "text": [
      "Jaki\n",
      "25\n",
      "Jaki obtained 25 marks\n",
      "Anusha\n",
      "Anusha obtained 25 marks\n"
     ]
    }
   ],
   "source": [
    "# Using Python Function to solve above problem\n",
    "\n",
    "class Student:\n",
    "    def __init__(self, name, marks):\n",
    "        self.name = name\n",
    "        self.marks = marks\n",
    "        # self.gotmarks = self.name + ' obtained ' + self.marks + ' marks'\n",
    "\n",
    "    def gotmarks(self):\n",
    "        return self.name + ' obtained ' + self.marks + ' marks'\n",
    "\n",
    "\n",
    "st = Student(\"Jaki\", \"25\")\n",
    "print(st.name)\n",
    "print(st.marks)\n",
    "print(st.gotmarks())\n",
    "\n",
    "st.name = \"Anusha\"\n",
    "print(st.name)\n",
    "print(st.gotmarks())"
   ]
  },
  {
   "cell_type": "code",
   "execution_count": 102,
   "metadata": {},
   "outputs": [],
   "source": [
    "# Solving above problem using Python property decorator\n",
    "\n",
    "@property\n",
    "def gotmarks(self):\n",
    "    return self.name + 'obtained' + self.marks + 'marks'"
   ]
  },
  {
   "cell_type": "code",
   "execution_count": null,
   "metadata": {},
   "outputs": [],
   "source": []
  },
  {
   "cell_type": "code",
   "execution_count": null,
   "metadata": {},
   "outputs": [],
   "source": []
  },
  {
   "cell_type": "code",
   "execution_count": 103,
   "metadata": {},
   "outputs": [
    {
     "name": "stdout",
     "output_type": "stream",
     "text": [
      "Jaki\n",
      "25\n",
      "Jaki obtained 25 marks\n",
      "##################\n",
      "Anusha\n",
      "Anusha obtained 25 marks\n",
      "##################\n",
      "Golam obtained 36 marks\n",
      "Golam\n",
      "36\n"
     ]
    }
   ],
   "source": [
    "class Student:\n",
    "    def __init__(self, name, marks):\n",
    "        self.name = name\n",
    "        self.marks = marks\n",
    "        # self.gotmarks = self.name + ' obtained ' + self.marks + ' marks'\n",
    "    \n",
    "    \n",
    "    @property\n",
    "    def gotmarks(self):\n",
    "        return self.name + ' obtained ' + self.marks + ' marks'\n",
    "\n",
    "    @gotmarks.setter\n",
    "    def gotmarks(self, sentence):\n",
    "        name, rand, marks = sentence.split(' ') # Split sentence to obtain name and marks\n",
    "        self.name = name\n",
    "        self.marks = marks\n",
    "\n",
    "# Student Object:\n",
    "st = Student(\"Jaki\", \"25\")\n",
    "# Apply name, marks and gotmarks\n",
    "print(st.name)\n",
    "print(st.marks)\n",
    "print(st.gotmarks)\n",
    "print(\"##################\")\n",
    "st.name = \"Anusha\"\n",
    "print(st.name)\n",
    "print(st.gotmarks) # Returns same gotmarks statement\n",
    "print(\"##################\")\n",
    "st.gotmarks = 'Golam obtained 36' # Update gotmarks setter\n",
    "print(st.gotmarks) # gotmarks property sentence\n",
    "print(st.name)\n",
    "print(st.marks)"
   ]
  },
  {
   "cell_type": "code",
   "execution_count": null,
   "metadata": {},
   "outputs": [],
   "source": [
    "# WANT:\n",
    "# - To update value of name and marks when setting value of gotmarks.\n",
    "\n",
    "# - Using setter of @ property to achieve this."
   ]
  },
  {
   "cell_type": "code",
   "execution_count": null,
   "metadata": {},
   "outputs": [],
   "source": [
    "# Writing @gotmarks.setter:\n",
    "# - Means we are applying the setter on the gotmarks method."
   ]
  },
  {
   "cell_type": "code",
   "execution_count": null,
   "metadata": {},
   "outputs": [],
   "source": []
  }
 ],
 "metadata": {
  "kernelspec": {
   "display_name": "Python 3",
   "language": "python",
   "name": "python3"
  },
  "language_info": {
   "codemirror_mode": {
    "name": "ipython",
    "version": 3
   },
   "file_extension": ".py",
   "mimetype": "text/x-python",
   "name": "python",
   "nbconvert_exporter": "python",
   "pygments_lexer": "ipython3",
   "version": "3.7.3"
  }
 },
 "nbformat": 4,
 "nbformat_minor": 2
}
